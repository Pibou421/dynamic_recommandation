{
 "cells": [
  {
   "cell_type": "code",
   "execution_count": 1,
   "metadata": {},
   "outputs": [],
   "source": [
    "import math\n",
    "import numpy as np\n",
    "import random as rd\n",
    "import matplotlib.pyplot as plt\n",
    "import pandas as pd\n",
    "\n",
    "import zero\n",
    "\n",
    "from zero.sgd_temporal import MangakiSGDTemporal"
   ]
  },
  {
   "cell_type": "code",
   "execution_count": 2,
   "metadata": {},
   "outputs": [],
   "source": [
    "ratings_table = pd.read_csv('ratings.csv')"
   ]
  },
  {
   "cell_type": "code",
   "execution_count": 3,
   "metadata": {},
   "outputs": [
    {
     "data": {
      "text/html": [
       "<div>\n",
       "<style scoped>\n",
       "    .dataframe tbody tr th:only-of-type {\n",
       "        vertical-align: middle;\n",
       "    }\n",
       "\n",
       "    .dataframe tbody tr th {\n",
       "        vertical-align: top;\n",
       "    }\n",
       "\n",
       "    .dataframe thead th {\n",
       "        text-align: right;\n",
       "    }\n",
       "</style>\n",
       "<table border=\"1\" class=\"dataframe\">\n",
       "  <thead>\n",
       "    <tr style=\"text-align: right;\">\n",
       "      <th></th>\n",
       "      <th>userId</th>\n",
       "      <th>movieId</th>\n",
       "      <th>rating</th>\n",
       "      <th>timestamp</th>\n",
       "    </tr>\n",
       "  </thead>\n",
       "  <tbody>\n",
       "    <tr>\n",
       "      <th>0</th>\n",
       "      <td>1</td>\n",
       "      <td>1</td>\n",
       "      <td>4.0</td>\n",
       "      <td>964982703</td>\n",
       "    </tr>\n",
       "    <tr>\n",
       "      <th>1</th>\n",
       "      <td>1</td>\n",
       "      <td>3</td>\n",
       "      <td>4.0</td>\n",
       "      <td>964981247</td>\n",
       "    </tr>\n",
       "    <tr>\n",
       "      <th>2</th>\n",
       "      <td>1</td>\n",
       "      <td>6</td>\n",
       "      <td>4.0</td>\n",
       "      <td>964982224</td>\n",
       "    </tr>\n",
       "    <tr>\n",
       "      <th>3</th>\n",
       "      <td>1</td>\n",
       "      <td>47</td>\n",
       "      <td>5.0</td>\n",
       "      <td>964983815</td>\n",
       "    </tr>\n",
       "    <tr>\n",
       "      <th>4</th>\n",
       "      <td>1</td>\n",
       "      <td>50</td>\n",
       "      <td>5.0</td>\n",
       "      <td>964982931</td>\n",
       "    </tr>\n",
       "    <tr>\n",
       "      <th>...</th>\n",
       "      <td>...</td>\n",
       "      <td>...</td>\n",
       "      <td>...</td>\n",
       "      <td>...</td>\n",
       "    </tr>\n",
       "    <tr>\n",
       "      <th>100831</th>\n",
       "      <td>610</td>\n",
       "      <td>166534</td>\n",
       "      <td>4.0</td>\n",
       "      <td>1493848402</td>\n",
       "    </tr>\n",
       "    <tr>\n",
       "      <th>100832</th>\n",
       "      <td>610</td>\n",
       "      <td>168248</td>\n",
       "      <td>5.0</td>\n",
       "      <td>1493850091</td>\n",
       "    </tr>\n",
       "    <tr>\n",
       "      <th>100833</th>\n",
       "      <td>610</td>\n",
       "      <td>168250</td>\n",
       "      <td>5.0</td>\n",
       "      <td>1494273047</td>\n",
       "    </tr>\n",
       "    <tr>\n",
       "      <th>100834</th>\n",
       "      <td>610</td>\n",
       "      <td>168252</td>\n",
       "      <td>5.0</td>\n",
       "      <td>1493846352</td>\n",
       "    </tr>\n",
       "    <tr>\n",
       "      <th>100835</th>\n",
       "      <td>610</td>\n",
       "      <td>170875</td>\n",
       "      <td>3.0</td>\n",
       "      <td>1493846415</td>\n",
       "    </tr>\n",
       "  </tbody>\n",
       "</table>\n",
       "<p>100836 rows × 4 columns</p>\n",
       "</div>"
      ],
      "text/plain": [
       "        userId  movieId  rating   timestamp\n",
       "0            1        1     4.0   964982703\n",
       "1            1        3     4.0   964981247\n",
       "2            1        6     4.0   964982224\n",
       "3            1       47     5.0   964983815\n",
       "4            1       50     5.0   964982931\n",
       "...        ...      ...     ...         ...\n",
       "100831     610   166534     4.0  1493848402\n",
       "100832     610   168248     5.0  1493850091\n",
       "100833     610   168250     5.0  1494273047\n",
       "100834     610   168252     5.0  1493846352\n",
       "100835     610   170875     3.0  1493846415\n",
       "\n",
       "[100836 rows x 4 columns]"
      ]
     },
     "execution_count": 3,
     "metadata": {},
     "output_type": "execute_result"
    }
   ],
   "source": [
    "ratings_table"
   ]
  },
  {
   "cell_type": "code",
   "execution_count": 4,
   "metadata": {},
   "outputs": [],
   "source": [
    "ratings_table[\"userId\"] = np.unique(ratings_table[\"userId\"], return_inverse=True)[1]\n",
    "ratings_table[\"movieId\"] = np.unique(ratings_table[\"movieId\"], return_inverse=True)[1]"
   ]
  },
  {
   "cell_type": "code",
   "execution_count": 5,
   "metadata": {},
   "outputs": [],
   "source": [
    "users = np.array(ratings_table[['userId']])[:,0]\n",
    "items =np.array(ratings_table[['movieId']])[:,0]\n",
    "ratings =np.array(ratings_table[['rating']])[:,0]\n",
    "timestamps =np.array(ratings_table[['timestamp']])[:,0]\n"
   ]
  },
  {
   "cell_type": "code",
   "execution_count": 6,
   "metadata": {},
   "outputs": [],
   "source": [
    "nb_users = len(ratings_table.groupby(\"userId\").count())\n",
    "nb_items = len(ratings_table.groupby(\"movieId\").count())"
   ]
  },
  {
   "cell_type": "code",
   "execution_count": 7,
   "metadata": {},
   "outputs": [],
   "source": [
    "sgd = MangakiSGDTemporal(nb_users, nb_items)\n"
   ]
  },
  {
   "cell_type": "code",
   "execution_count": 8,
   "metadata": {
    "scrolled": true
   },
   "outputs": [
    {
     "name": "stdout",
     "output_type": "stream",
     "text": [
      "initialization done\n",
      "training rmse = 0.9530860969725954\n",
      "testing rmse = 0.9444721293910256\n",
      "training rmse = 0.8251278465470631\n",
      "testing rmse = 0.8353653645434478\n",
      "training rmse = 0.7857766780510045\n",
      "testing rmse = 0.8084147421697848\n",
      "training rmse = 0.7614094962896948\n",
      "testing rmse = 0.7931595308757259\n",
      "training rmse = 0.7425670347398401\n",
      "testing rmse = 0.7826718597499597\n",
      "training rmse = 0.7263472101849832\n",
      "testing rmse = 0.774773407742764\n",
      "training rmse = 0.7114598767852196\n",
      "testing rmse = 0.7684807488105673\n",
      "training rmse = 0.6972570282317411\n",
      "testing rmse = 0.7632626500227303\n",
      "training rmse = 0.6834134354916955\n",
      "testing rmse = 0.7588055660886962\n",
      "training rmse = 0.6697881842260146\n",
      "testing rmse = 0.7549157543175851\n",
      "training rmse = 0.6563483342113577\n",
      "testing rmse = 0.7514699816220247\n",
      "training rmse = 0.6431197030837164\n",
      "testing rmse = 0.7483874509231878\n",
      "training rmse = 0.6301545078808718\n",
      "testing rmse = 0.7456128391483392\n",
      "training rmse = 0.6175117054927012\n",
      "testing rmse = 0.743106056835786\n",
      "training rmse = 0.605246254838543\n",
      "testing rmse = 0.7408362788877452\n",
      "training rmse = 0.5934037212788016\n",
      "testing rmse = 0.7387785767075952\n",
      "training rmse = 0.5820178013795515\n",
      "testing rmse = 0.7369120119715848\n",
      "training rmse = 0.5711096104253522\n",
      "testing rmse = 0.7352185024894009\n",
      "training rmse = 0.5606882613056953\n",
      "testing rmse = 0.7336820991648705\n",
      "training rmse = 0.5507524085947\n",
      "testing rmse = 0.7322885033432778\n"
     ]
    },
    {
     "data": {
      "text/plain": [
       "0.7322885033432778"
      ]
     },
     "execution_count": 8,
     "metadata": {},
     "output_type": "execute_result"
    }
   ],
   "source": [
    "sgd.new_global_test(users, items, ratings, timestamps, dynamic_strategy = \"no temporal factor\")"
   ]
  },
  {
   "cell_type": "code",
   "execution_count": 9,
   "metadata": {},
   "outputs": [
    {
     "name": "stdout",
     "output_type": "stream",
     "text": [
      "initialization done\n",
      "0.4748520388468488\n",
      "training rmse = 0.7192681114242936\n",
      "testing rmse = 0.7185949283446362\n",
      "0.4946468089575666\n",
      "training rmse = 0.7202837285178779\n",
      "testing rmse = 0.727354715197706\n",
      "0.4909992801581488\n",
      "training rmse = 0.7233783601972109\n",
      "testing rmse = 0.7366541883617104\n",
      "0.4838360790175372\n",
      "training rmse = 0.727908265704828\n",
      "testing rmse = 0.7461638386716144\n",
      "0.476319865098322\n",
      "training rmse = 0.7334107658178698\n",
      "testing rmse = 0.7556787389808032\n",
      "0.4689665328613754\n",
      "training rmse = 0.7395575696277821\n",
      "testing rmse = 0.7650729709739532\n",
      "0.4618508330849623\n",
      "training rmse = 0.7461141840857345\n",
      "testing rmse = 0.7742678570078011\n",
      "0.45497939949570027\n",
      "training rmse = 0.7529125901735574\n",
      "testing rmse = 0.7832135585171022\n",
      "0.4483535720100647\n",
      "training rmse = 0.7598324326565707\n",
      "testing rmse = 0.7918787308560078\n",
      "0.44197822843785295\n",
      "training rmse = 0.7667878263137023\n",
      "testing rmse = 0.8002445367454426\n",
      "0.4358613302278651\n",
      "training rmse = 0.7737179645744527\n",
      "testing rmse = 0.808300983987946\n",
      "0.43001213001146615\n",
      "training rmse = 0.7805803591525192\n",
      "testing rmse = 0.8160445341295317\n",
      "0.42443947363862494\n",
      "training rmse = 0.7873459320551339\n",
      "testing rmse = 0.8234764403728733\n",
      "0.41915045972308795\n",
      "training rmse = 0.7939954292949641\n",
      "testing rmse = 0.8306015313261165\n",
      "0.4141494998475097\n",
      "training rmse = 0.800516787270208\n",
      "testing rmse = 0.8374272871315037\n",
      "0.4094377681580064\n",
      "training rmse = 0.8069031911653264\n",
      "testing rmse = 0.8439631205669005\n",
      "0.4050130028918303\n",
      "training rmse = 0.8131516390875255\n",
      "testing rmse = 0.8502198099885626\n",
      "0.400869603638452\n",
      "training rmse = 0.8192618776000047\n",
      "testing rmse = 0.856209049388036\n",
      "0.3969989558854183\n",
      "training rmse = 0.8252356111104031\n",
      "testing rmse = 0.8619430912281989\n",
      "0.39338990973790144\n",
      "training rmse = 0.8310759139212631\n",
      "testing rmse = 0.8674344639892784\n"
     ]
    },
    {
     "data": {
      "text/plain": [
       "0.8674344639892784"
      ]
     },
     "execution_count": 9,
     "metadata": {},
     "output_type": "execute_result"
    }
   ],
   "source": [
    "sgd.new_global_test(users, items, ratings, timestamps, dynamic_strategy = \"exponential\")"
   ]
  },
  {
   "cell_type": "code",
   "execution_count": 10,
   "metadata": {},
   "outputs": [
    {
     "name": "stdout",
     "output_type": "stream",
     "text": [
      "initialization done\n",
      "0.09231415673819113\n",
      "0.2068480997189462\n",
      "training rmse = 0.8584869208041029\n",
      "testing rmse = 0.7714671433467452\n",
      "0.08519432222344502\n",
      "0.205893036716226\n",
      "training rmse = 0.8677194431617687\n",
      "testing rmse = 0.7730498414668494\n",
      "0.07796586821523342\n",
      "0.20073824365143764\n",
      "training rmse = 0.877327218891065\n",
      "testing rmse = 0.7749708763080663\n",
      "0.07057540386840307\n",
      "0.1948671220380055\n",
      "training rmse = 0.8872793648498006\n",
      "testing rmse = 0.7772205509031158\n",
      "0.062989055026134\n",
      "0.1884091982109987\n",
      "training rmse = 0.8975477297817079\n",
      "testing rmse = 0.7797909508650366\n",
      "0.05516771750733947\n",
      "0.18121105755200065\n",
      "training rmse = 0.9081090043507734\n",
      "testing rmse = 0.782675773578168\n",
      "0.0470612160369924\n",
      "0.17302219372665087\n",
      "training rmse = 0.9189445613127936\n",
      "testing rmse = 0.7858704219590446\n",
      "0.03860031865551317\n",
      "0.16344623482639006\n",
      "training rmse = 0.930040436682542\n",
      "testing rmse = 0.7893721975001987\n",
      "0.02967996880223886\n",
      "0.1517930744573274\n",
      "training rmse = 0.9413875046297117\n",
      "testing rmse = 0.7931806320785156\n",
      "0.020116195317287398\n",
      "0.13665828806242175\n",
      "training rmse = 0.9529820121080819\n",
      "testing rmse = 0.7972981053849575\n",
      "0.009492690332059054\n",
      "0.11422233754570314\n",
      "training rmse = 0.9648269489031666\n",
      "testing rmse = 0.8017312188670793\n",
      "-0.003996458341625887\n",
      "0.07405835463550874\n",
      "training rmse = 0.9769359388183538\n",
      "testing rmse = 0.806493813299423\n",
      "-0.017945423770081965\n",
      "0.11457953319989231\n",
      "training rmse = 0.9893146931245104\n",
      "testing rmse = 0.8115523226216175\n",
      "-0.0293310753905833\n",
      "0.14098382715080596\n",
      "training rmse = 1.0015794170515353\n",
      "testing rmse = 0.8167562413579658\n",
      "-0.04003486890671437\n",
      "0.1586090507953681\n",
      "training rmse = 1.0136960260849528\n",
      "testing rmse = 0.8220982689193754\n",
      "-0.0505032259489457\n",
      "0.1724638952235977\n",
      "training rmse = 1.0256401610294854\n",
      "testing rmse = 0.8275511791242681\n",
      "-0.06090415433487333\n",
      "0.18421404624505688\n",
      "training rmse = 1.0373801383026084\n",
      "testing rmse = 0.8330861292132662\n",
      "-0.07132068971597111\n",
      "0.19458943777896082\n",
      "training rmse = 1.0488842218297716\n",
      "testing rmse = 0.8386742896127085\n",
      "-0.08179906060875801\n",
      "0.2039781304027853\n",
      "training rmse = 1.0601221625167412\n",
      "testing rmse = 0.8442873801178723\n",
      "-0.09236601007973261\n",
      "0.2126120919856319\n",
      "training rmse = 1.0710657545518805\n",
      "testing rmse = 0.849897985813741\n"
     ]
    },
    {
     "data": {
      "text/plain": [
       "0.849897985813741"
      ]
     },
     "execution_count": 10,
     "metadata": {},
     "output_type": "execute_result"
    }
   ],
   "source": [
    "sgd.new_global_test(users, items, ratings, timestamps, dynamic_strategy = \"exponential factor\")"
   ]
  }
 ],
 "metadata": {
  "kernelspec": {
   "display_name": "Python 3",
   "language": "python",
   "name": "python3"
  },
  "language_info": {
   "codemirror_mode": {
    "name": "ipython",
    "version": 3
   },
   "file_extension": ".py",
   "mimetype": "text/x-python",
   "name": "python",
   "nbconvert_exporter": "python",
   "pygments_lexer": "ipython3",
   "version": "3.6.9"
  }
 },
 "nbformat": 4,
 "nbformat_minor": 4
}
