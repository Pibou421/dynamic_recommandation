{
 "cells": [
  {
   "cell_type": "code",
   "execution_count": 1,
   "metadata": {},
   "outputs": [],
   "source": [
    "import math\n",
    "import numpy as np\n",
    "import random as rd\n",
    "import matplotlib.pyplot as plt\n",
    "import pandas as pd\n",
    "\n",
    "import zero\n",
    "\n",
    "from zero.sgd_temporal import MangakiSGDTemporal"
   ]
  },
  {
   "cell_type": "code",
   "execution_count": 2,
   "metadata": {},
   "outputs": [],
   "source": [
    "ratings_table = pd.read_csv('ratings.csv')"
   ]
  },
  {
   "cell_type": "code",
   "execution_count": 3,
   "metadata": {},
   "outputs": [
    {
     "data": {
      "text/html": [
       "<div>\n",
       "<style scoped>\n",
       "    .dataframe tbody tr th:only-of-type {\n",
       "        vertical-align: middle;\n",
       "    }\n",
       "\n",
       "    .dataframe tbody tr th {\n",
       "        vertical-align: top;\n",
       "    }\n",
       "\n",
       "    .dataframe thead th {\n",
       "        text-align: right;\n",
       "    }\n",
       "</style>\n",
       "<table border=\"1\" class=\"dataframe\">\n",
       "  <thead>\n",
       "    <tr style=\"text-align: right;\">\n",
       "      <th></th>\n",
       "      <th>userId</th>\n",
       "      <th>movieId</th>\n",
       "      <th>rating</th>\n",
       "      <th>timestamp</th>\n",
       "    </tr>\n",
       "  </thead>\n",
       "  <tbody>\n",
       "    <tr>\n",
       "      <th>0</th>\n",
       "      <td>1</td>\n",
       "      <td>1</td>\n",
       "      <td>4.0</td>\n",
       "      <td>964982703</td>\n",
       "    </tr>\n",
       "    <tr>\n",
       "      <th>1</th>\n",
       "      <td>1</td>\n",
       "      <td>3</td>\n",
       "      <td>4.0</td>\n",
       "      <td>964981247</td>\n",
       "    </tr>\n",
       "    <tr>\n",
       "      <th>2</th>\n",
       "      <td>1</td>\n",
       "      <td>6</td>\n",
       "      <td>4.0</td>\n",
       "      <td>964982224</td>\n",
       "    </tr>\n",
       "    <tr>\n",
       "      <th>3</th>\n",
       "      <td>1</td>\n",
       "      <td>47</td>\n",
       "      <td>5.0</td>\n",
       "      <td>964983815</td>\n",
       "    </tr>\n",
       "    <tr>\n",
       "      <th>4</th>\n",
       "      <td>1</td>\n",
       "      <td>50</td>\n",
       "      <td>5.0</td>\n",
       "      <td>964982931</td>\n",
       "    </tr>\n",
       "    <tr>\n",
       "      <th>...</th>\n",
       "      <td>...</td>\n",
       "      <td>...</td>\n",
       "      <td>...</td>\n",
       "      <td>...</td>\n",
       "    </tr>\n",
       "    <tr>\n",
       "      <th>100831</th>\n",
       "      <td>610</td>\n",
       "      <td>166534</td>\n",
       "      <td>4.0</td>\n",
       "      <td>1493848402</td>\n",
       "    </tr>\n",
       "    <tr>\n",
       "      <th>100832</th>\n",
       "      <td>610</td>\n",
       "      <td>168248</td>\n",
       "      <td>5.0</td>\n",
       "      <td>1493850091</td>\n",
       "    </tr>\n",
       "    <tr>\n",
       "      <th>100833</th>\n",
       "      <td>610</td>\n",
       "      <td>168250</td>\n",
       "      <td>5.0</td>\n",
       "      <td>1494273047</td>\n",
       "    </tr>\n",
       "    <tr>\n",
       "      <th>100834</th>\n",
       "      <td>610</td>\n",
       "      <td>168252</td>\n",
       "      <td>5.0</td>\n",
       "      <td>1493846352</td>\n",
       "    </tr>\n",
       "    <tr>\n",
       "      <th>100835</th>\n",
       "      <td>610</td>\n",
       "      <td>170875</td>\n",
       "      <td>3.0</td>\n",
       "      <td>1493846415</td>\n",
       "    </tr>\n",
       "  </tbody>\n",
       "</table>\n",
       "<p>100836 rows × 4 columns</p>\n",
       "</div>"
      ],
      "text/plain": [
       "        userId  movieId  rating   timestamp\n",
       "0            1        1     4.0   964982703\n",
       "1            1        3     4.0   964981247\n",
       "2            1        6     4.0   964982224\n",
       "3            1       47     5.0   964983815\n",
       "4            1       50     5.0   964982931\n",
       "...        ...      ...     ...         ...\n",
       "100831     610   166534     4.0  1493848402\n",
       "100832     610   168248     5.0  1493850091\n",
       "100833     610   168250     5.0  1494273047\n",
       "100834     610   168252     5.0  1493846352\n",
       "100835     610   170875     3.0  1493846415\n",
       "\n",
       "[100836 rows x 4 columns]"
      ]
     },
     "execution_count": 3,
     "metadata": {},
     "output_type": "execute_result"
    }
   ],
   "source": [
    "ratings_table"
   ]
  },
  {
   "cell_type": "code",
   "execution_count": 4,
   "metadata": {},
   "outputs": [],
   "source": [
    "ratings_table[\"userId\"] = np.unique(ratings_table[\"userId\"], return_inverse=True)[1]\n",
    "ratings_table[\"movieId\"] = np.unique(ratings_table[\"movieId\"], return_inverse=True)[1]\n"
   ]
  },
  {
   "cell_type": "code",
   "execution_count": 5,
   "metadata": {},
   "outputs": [],
   "source": [
    "ratings_table[\"mean_of_user\"] = ratings_table.groupby('userId')[\"rating\"].transform('mean')\n",
    "ratings_table[\"std_of_user\"] = ratings_table.groupby('userId')[\"rating\"].transform('std')\n",
    "ratings_table[\"scaled_rating\"] = (ratings_table[\"rating\"] - ratings_table[\"mean_of_user\"])"
   ]
  },
  {
   "cell_type": "code",
   "execution_count": 6,
   "metadata": {},
   "outputs": [],
   "source": [
    "users = np.array(ratings_table[['userId']])[:,0]\n",
    "items =np.array(ratings_table[['movieId']])[:,0]\n",
    "ratings =np.array(ratings_table[['rating']])[:,0]\n",
    "timestamps =np.array(ratings_table[['timestamp']])[:,0]\n",
    "mean_of_user = np.array(ratings_table[['mean_of_user']])[:,0]\n",
    "std_of_user = np.array(ratings_table[['std_of_user']])[:,0]\n",
    "scaled_ratings = np.array(ratings_table[['scaled_rating']])[:,0]\n"
   ]
  },
  {
   "cell_type": "code",
   "execution_count": 7,
   "metadata": {},
   "outputs": [],
   "source": [
    "nb_users = len(ratings_table.groupby(\"userId\").count())\n",
    "nb_items = len(ratings_table.groupby(\"movieId\").count())"
   ]
  },
  {
   "cell_type": "code",
   "execution_count": 8,
   "metadata": {},
   "outputs": [],
   "source": [
    "sgd = MangakiSGDTemporal(nb_users, nb_items)\n"
   ]
  },
  {
   "cell_type": "code",
   "execution_count": 9,
   "metadata": {
    "scrolled": false
   },
   "outputs": [
    {
     "name": "stdout",
     "output_type": "stream",
     "text": [
      "initialization done\n",
      "training rmse = 1.3947330506823699\n",
      "testing rmse = 1.4433133327423002\n",
      "training rmse = 0.893841235314075\n",
      "testing rmse = 0.9468807487947154\n",
      "training rmse = 0.867937685012869\n",
      "testing rmse = 0.9102949432170914\n",
      "training rmse = 0.8592898013719059\n",
      "testing rmse = 0.8982170684586027\n",
      "training rmse = 0.8544660982485245\n",
      "testing rmse = 0.8920515688503129\n",
      "training rmse = 0.8504734243557626\n",
      "testing rmse = 0.8877977519358828\n",
      "training rmse = 0.8461974799756358\n",
      "testing rmse = 0.8840553834972504\n",
      "training rmse = 0.8410218180843239\n",
      "testing rmse = 0.8801458944701837\n",
      "training rmse = 0.8345816601730709\n",
      "testing rmse = 0.8757332377298109\n",
      "training rmse = 0.8268092665698298\n",
      "testing rmse = 0.8707838966284117\n",
      "training rmse = 0.8179978500118966\n",
      "testing rmse = 0.8655425803341833\n",
      "training rmse = 0.8086996074268593\n",
      "testing rmse = 0.8603893791154822\n",
      "training rmse = 0.7994681235130113\n",
      "testing rmse = 0.8556412045676933\n",
      "training rmse = 0.7906534290719002\n",
      "testing rmse = 0.8514484479658798\n",
      "training rmse = 0.7823787518833063\n",
      "testing rmse = 0.8478188526241558\n",
      "training rmse = 0.7746276898806395\n",
      "testing rmse = 0.8446882320110227\n",
      "training rmse = 0.7673308477431826\n",
      "testing rmse = 0.8419738437052289\n",
      "training rmse = 0.7604131164856861\n",
      "testing rmse = 0.8395991862823786\n",
      "training rmse = 0.7538109532737088\n",
      "testing rmse = 0.8375011382565518\n",
      "training rmse = 0.7474755406018478\n",
      "testing rmse = 0.8356297558345043\n"
     ]
    },
    {
     "data": {
      "text/plain": [
       "0.8356297558345043"
      ]
     },
     "execution_count": 9,
     "metadata": {},
     "output_type": "execute_result"
    },
    {
     "data": {
      "image/png": "[encoded data removed]",
      "text/plain": [
       "<matplotlib.figure.Figure at 0x7fe458dc2c88>"
      ]
     },
     "metadata": {
      "needs_background": "light"
     },
     "output_type": "display_data"
    },
    {
     "data": {
      "image/png": "[encoded data removed]",
      "text/plain": [
       "<matplotlib.figure.Figure at 0x7fe456f22550>"
      ]
     },
     "metadata": {
      "needs_background": "light"
     },
     "output_type": "display_data"
    }
   ],
   "source": [
    "sgd.new_global_test(users, items, ratings, timestamps, mean_of_user, std_of_user, scaled_ratings, dynamic_strategy = \"no temporal factor\")"
   ]
  },
  {
   "cell_type": "code",
   "execution_count": null,
   "metadata": {
    "scrolled": false
   },
   "outputs": [
    {
     "name": "stdout",
     "output_type": "stream",
     "text": [
      "initialization done\n",
      "0.044392508410658754\n",
      "training rmse = 0.8359315141220255\n",
      "testing rmse = 0.8185224905312238\n",
      "0.046023300348188356\n",
      "training rmse = 0.8550415437642497\n",
      "testing rmse = 0.843484244394095\n",
      "0.047410859382042606\n",
      "training rmse = 0.8707734682401733\n",
      "testing rmse = 0.8607176215509228\n",
      "0.04808890781388563\n",
      "training rmse = 0.8822365151324634\n",
      "testing rmse = 0.8727057922725228\n",
      "0.04836721905939382\n",
      "training rmse = 0.8907249549401087\n",
      "testing rmse = 0.8815464852645627\n",
      "0.0484670217371244\n",
      "training rmse = 0.8971780183042142\n",
      "testing rmse = 0.8883909960663645\n",
      "0.048494890100282115\n",
      "training rmse = 0.9022075186089284\n",
      "testing rmse = 0.8938740217910068\n",
      "0.04849640786362737\n",
      "training rmse = 0.906213614685982\n",
      "testing rmse = 0.8983711126701981\n",
      "0.04848994578877056\n",
      "training rmse = 0.9094644962591034\n",
      "testing rmse = 0.9021223684585573\n",
      "0.04848247869118675\n",
      "training rmse = 0.9121448293009602\n",
      "testing rmse = 0.9052917529657265\n"
     ]
    }
   ],
   "source": [
    "sgd.new_global_test(users, items, ratings, timestamps, mean_of_user, std_of_user, scaled_ratings, dynamic_strategy = \"exponential\")"
   ]
  },
  {
   "cell_type": "code",
   "execution_count": null,
   "metadata": {
    "scrolled": false
   },
   "outputs": [],
   "source": [
    "#sgd.cl_global_test(users, items, ratings, timestamps, mean_of_user, std_of_user, scaled_ratings, dynamic_strategy = \"exponential factor\")"
   ]
  }
 ],
 "metadata": {
  "kernelspec": {
   "display_name": "Python 3",
   "language": "python",
   "name": "python3"
  },
  "language_info": {
   "codemirror_mode": {
    "name": "ipython",
    "version": 3
   },
   "file_extension": ".py",
   "mimetype": "text/x-python",
   "name": "python",
   "nbconvert_exporter": "python",
   "pygments_lexer": "ipython3",
   "version": "3.6.9"
  }
 },
 "nbformat": 4,
 "nbformat_minor": 4
}
