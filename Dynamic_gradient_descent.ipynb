{
 "cells": [
  {
   "cell_type": "code",
   "execution_count": 1,
   "metadata": {},
   "outputs": [],
   "source": [
    "import math\n",
    "import numpy as np\n",
    "import random as rd\n",
    "import matplotlib.pyplot as plt\n",
    "import pandas as pd\n",
    "\n",
    "import zero\n",
    "\n",
    "from zero.sgd_temporal import MangakiSGDTemporal"
   ]
  },
  {
   "cell_type": "code",
   "execution_count": 2,
   "metadata": {},
   "outputs": [],
   "source": [
    "ratings_table = pd.read_csv('ratings.csv')"
   ]
  },
  {
   "cell_type": "code",
   "execution_count": 3,
   "metadata": {},
   "outputs": [
    {
     "data": {
      "text/html": [
       "<div>\n",
       "<style scoped>\n",
       "    .dataframe tbody tr th:only-of-type {\n",
       "        vertical-align: middle;\n",
       "    }\n",
       "\n",
       "    .dataframe tbody tr th {\n",
       "        vertical-align: top;\n",
       "    }\n",
       "\n",
       "    .dataframe thead th {\n",
       "        text-align: right;\n",
       "    }\n",
       "</style>\n",
       "<table border=\"1\" class=\"dataframe\">\n",
       "  <thead>\n",
       "    <tr style=\"text-align: right;\">\n",
       "      <th></th>\n",
       "      <th>userId</th>\n",
       "      <th>movieId</th>\n",
       "      <th>rating</th>\n",
       "      <th>timestamp</th>\n",
       "    </tr>\n",
       "  </thead>\n",
       "  <tbody>\n",
       "    <tr>\n",
       "      <th>0</th>\n",
       "      <td>1</td>\n",
       "      <td>1</td>\n",
       "      <td>4.0</td>\n",
       "      <td>964982703</td>\n",
       "    </tr>\n",
       "    <tr>\n",
       "      <th>1</th>\n",
       "      <td>1</td>\n",
       "      <td>3</td>\n",
       "      <td>4.0</td>\n",
       "      <td>964981247</td>\n",
       "    </tr>\n",
       "    <tr>\n",
       "      <th>2</th>\n",
       "      <td>1</td>\n",
       "      <td>6</td>\n",
       "      <td>4.0</td>\n",
       "      <td>964982224</td>\n",
       "    </tr>\n",
       "    <tr>\n",
       "      <th>3</th>\n",
       "      <td>1</td>\n",
       "      <td>47</td>\n",
       "      <td>5.0</td>\n",
       "      <td>964983815</td>\n",
       "    </tr>\n",
       "    <tr>\n",
       "      <th>4</th>\n",
       "      <td>1</td>\n",
       "      <td>50</td>\n",
       "      <td>5.0</td>\n",
       "      <td>964982931</td>\n",
       "    </tr>\n",
       "    <tr>\n",
       "      <th>...</th>\n",
       "      <td>...</td>\n",
       "      <td>...</td>\n",
       "      <td>...</td>\n",
       "      <td>...</td>\n",
       "    </tr>\n",
       "    <tr>\n",
       "      <th>100831</th>\n",
       "      <td>610</td>\n",
       "      <td>166534</td>\n",
       "      <td>4.0</td>\n",
       "      <td>1493848402</td>\n",
       "    </tr>\n",
       "    <tr>\n",
       "      <th>100832</th>\n",
       "      <td>610</td>\n",
       "      <td>168248</td>\n",
       "      <td>5.0</td>\n",
       "      <td>1493850091</td>\n",
       "    </tr>\n",
       "    <tr>\n",
       "      <th>100833</th>\n",
       "      <td>610</td>\n",
       "      <td>168250</td>\n",
       "      <td>5.0</td>\n",
       "      <td>1494273047</td>\n",
       "    </tr>\n",
       "    <tr>\n",
       "      <th>100834</th>\n",
       "      <td>610</td>\n",
       "      <td>168252</td>\n",
       "      <td>5.0</td>\n",
       "      <td>1493846352</td>\n",
       "    </tr>\n",
       "    <tr>\n",
       "      <th>100835</th>\n",
       "      <td>610</td>\n",
       "      <td>170875</td>\n",
       "      <td>3.0</td>\n",
       "      <td>1493846415</td>\n",
       "    </tr>\n",
       "  </tbody>\n",
       "</table>\n",
       "<p>100836 rows × 4 columns</p>\n",
       "</div>"
      ],
      "text/plain": [
       "        userId  movieId  rating   timestamp\n",
       "0            1        1     4.0   964982703\n",
       "1            1        3     4.0   964981247\n",
       "2            1        6     4.0   964982224\n",
       "3            1       47     5.0   964983815\n",
       "4            1       50     5.0   964982931\n",
       "...        ...      ...     ...         ...\n",
       "100831     610   166534     4.0  1493848402\n",
       "100832     610   168248     5.0  1493850091\n",
       "100833     610   168250     5.0  1494273047\n",
       "100834     610   168252     5.0  1493846352\n",
       "100835     610   170875     3.0  1493846415\n",
       "\n",
       "[100836 rows x 4 columns]"
      ]
     },
     "execution_count": 3,
     "metadata": {},
     "output_type": "execute_result"
    }
   ],
   "source": [
    "ratings_table"
   ]
  },
  {
   "cell_type": "code",
   "execution_count": 4,
   "metadata": {},
   "outputs": [],
   "source": [
    "ratings_table[\"userId\"] = np.unique(ratings_table[\"userId\"], return_inverse=True)[1]\n",
    "ratings_table[\"movieId\"] = np.unique(ratings_table[\"movieId\"], return_inverse=True)[1]"
   ]
  },
  {
   "cell_type": "code",
   "execution_count": 5,
   "metadata": {},
   "outputs": [],
   "source": [
    "users = np.array(ratings_table[['userId']])[:,0]\n",
    "items =np.array(ratings_table[['movieId']])[:,0]\n",
    "ratings =np.array(ratings_table[['rating']])[:,0]\n",
    "timestamps =np.array(ratings_table[['timestamp']])[:,0]\n"
   ]
  },
  {
   "cell_type": "code",
   "execution_count": 6,
   "metadata": {},
   "outputs": [],
   "source": [
    "nb_users = len(ratings_table.groupby(\"userId\").count())\n",
    "nb_items = len(ratings_table.groupby(\"movieId\").count())"
   ]
  },
  {
   "cell_type": "code",
   "execution_count": 7,
   "metadata": {},
   "outputs": [],
   "source": [
    "sgd = MangakiSGDTemporal(nb_users, nb_items)\n"
   ]
  },
  {
   "cell_type": "code",
   "execution_count": 8,
   "metadata": {
    "scrolled": true
   },
   "outputs": [
    {
     "name": "stdout",
     "output_type": "stream",
     "text": [
      "initialization done\n",
      "training rmse = 0.9616410932745502\n",
      "testing rmse = 0.9061699732275064\n",
      "training rmse = 0.831313935203863\n",
      "testing rmse = 0.8079513510025194\n",
      "training rmse = 0.7914990724259239\n",
      "testing rmse = 0.7850571301977645\n",
      "training rmse = 0.7672463434242421\n",
      "testing rmse = 0.7720817016426162\n",
      "training rmse = 0.7486937667524023\n",
      "testing rmse = 0.7632309038198514\n",
      "training rmse = 0.7328135292630403\n",
      "testing rmse = 0.7566303205071416\n",
      "training rmse = 0.7182580819524431\n",
      "testing rmse = 0.7514253679682059\n",
      "training rmse = 0.7043413544014195\n",
      "testing rmse = 0.7471568858575387\n",
      "training rmse = 0.6907062111297645\n",
      "testing rmse = 0.7435524479762838\n",
      "training rmse = 0.6771866351101623\n",
      "testing rmse = 0.740439874294879\n",
      "training rmse = 0.6637368660259338\n",
      "testing rmse = 0.7377059971634028\n",
      "training rmse = 0.6503855159747023\n",
      "testing rmse = 0.7352746777369698\n",
      "training rmse = 0.6372006197867194\n",
      "testing rmse = 0.7330937846047597\n",
      "training rmse = 0.6242626259056967\n",
      "testing rmse = 0.731126740006699\n",
      "training rmse = 0.6116459505575308\n",
      "testing rmse = 0.7293467456191303\n",
      "training rmse = 0.5994092961938202\n",
      "testing rmse = 0.7277328671142446\n",
      "training rmse = 0.5875931356237948\n",
      "testing rmse = 0.7262675379215829\n",
      "training rmse = 0.576221601366545\n",
      "testing rmse = 0.7249351345727528\n",
      "training rmse = 0.5653061320349178\n",
      "testing rmse = 0.7237212967179497\n",
      "training rmse = 0.5548491285856181\n",
      "testing rmse = 0.7226127013272514\n"
     ]
    },
    {
     "data": {
      "text/plain": [
       "0.7226127013272514"
      ]
     },
     "execution_count": 8,
     "metadata": {},
     "output_type": "execute_result"
    },
    {
     "data": {
      "image/png": "[encoded data removed]",
      "text/plain": [
       "<matplotlib.figure.Figure at 0x7f492c259eb8>"
      ]
     },
     "metadata": {
      "needs_background": "light"
     },
     "output_type": "display_data"
    }
   ],
   "source": [
    "sgd.new_global_test(users, items, ratings, timestamps, dynamic_strategy = \"no temporal factor\")"
   ]
  },
  {
   "cell_type": "code",
   "execution_count": 9,
   "metadata": {},
   "outputs": [
    {
     "name": "stdout",
     "output_type": "stream",
     "text": [
      "initialization done\n",
      "0.5103659543294758\n",
      "training rmse = 0.7313271409418218\n",
      "testing rmse = 0.7339532203360538\n",
      "0.5317468512560136\n",
      "training rmse = 0.7351096493452749\n",
      "testing rmse = 0.7374606991668373\n",
      "0.5276816430519465\n",
      "training rmse = 0.7408719086442709\n",
      "testing rmse = 0.7424792426219667\n",
      "0.5203228019220351\n",
      "training rmse = 0.7479342970573482\n",
      "testing rmse = 0.7485345196076375\n",
      "0.5128955630046299\n",
      "training rmse = 0.7558118058860824\n",
      "testing rmse = 0.7552758149311185\n",
      "0.5057686068309939\n",
      "training rmse = 0.764165272866121\n",
      "testing rmse = 0.7624402372887448\n",
      "0.498899177209839\n",
      "training rmse = 0.7727581928363062\n",
      "testing rmse = 0.7698302922187542\n",
      "0.49221520017898673\n",
      "training rmse = 0.781426218728214\n",
      "testing rmse = 0.777298078447793\n",
      "0.48566667111716144\n",
      "training rmse = 0.7900559772276544\n",
      "testing rmse = 0.7847336729536281\n",
      "0.47922614509163\n",
      "training rmse = 0.7985702925920397\n",
      "testing rmse = 0.7920563873481696\n",
      "0.4728831359554962\n",
      "training rmse = 0.8069177996630775\n",
      "testing rmse = 0.7992080863551863\n",
      "0.4666390687551517\n",
      "training rmse = 0.8150655842342093\n",
      "testing rmse = 0.8061480343556711\n",
      "0.4605034105188311\n",
      "training rmse = 0.8229939299178937\n",
      "testing rmse = 0.8128488979940869\n",
      "0.4544907593957623\n",
      "training rmse = 0.830692543908587\n",
      "testing rmse = 0.8192936351173447\n",
      "0.44861862910486844\n",
      "training rmse = 0.8381578301417125\n",
      "testing rmse = 0.8254730689895899\n",
      "0.44290572978409043\n",
      "training rmse = 0.8453909104618558\n",
      "testing rmse = 0.8313839951511615\n",
      "0.4373706112041585\n",
      "training rmse = 0.85239618411683\n",
      "testing rmse = 0.8370277036716857\n",
      "0.43203058550201606\n",
      "training rmse = 0.8591802773217665\n",
      "testing rmse = 0.8424088260321316\n",
      "0.4269008834913471\n",
      "training rmse = 0.865751277092326\n",
      "testing rmse = 0.8475344360201588\n",
      "0.4219940225466811\n",
      "training rmse = 0.8721181731802535\n",
      "testing rmse = 0.8524133495232928\n"
     ]
    },
    {
     "data": {
      "text/plain": [
       "0.8524133495232928"
      ]
     },
     "execution_count": 9,
     "metadata": {},
     "output_type": "execute_result"
    },
    {
     "data": {
      "image/png": "[encoded data removed]",
      "text/plain": [
       "<matplotlib.figure.Figure at 0x7f48dcd7a860>"
      ]
     },
     "metadata": {
      "needs_background": "light"
     },
     "output_type": "display_data"
    }
   ],
   "source": [
    "sgd.new_global_test(users, items, ratings, timestamps, dynamic_strategy = \"exponential\")"
   ]
  },
  {
   "cell_type": "code",
   "execution_count": 10,
   "metadata": {},
   "outputs": [
    {
     "name": "stdout",
     "output_type": "stream",
     "text": [
      "initialization done\n",
      "0.0914196083795608\n",
      "0.2049420618372607\n",
      "training rmse = 0.8877306626987309\n",
      "testing rmse = 0.8300507167064274\n",
      "0.08341029973565814\n",
      "0.2043467339177968\n",
      "training rmse = 0.8965914014641916\n",
      "testing rmse = 0.8346410168109655\n",
      "0.0753201293410864\n",
      "0.19844340803714797\n",
      "training rmse = 0.905777825420576\n",
      "testing rmse = 0.839638473729252\n",
      "0.06708465569787439\n",
      "0.1915360622303903\n",
      "training rmse = 0.9152533091080207\n",
      "testing rmse = 0.8450254185108551\n",
      "0.05866265304571959\n",
      "0.18386036898168023\n",
      "training rmse = 0.9249961365421921\n",
      "testing rmse = 0.850789127099702\n",
      "0.05000608434887413\n",
      "0.17521242011803742\n",
      "training rmse = 0.9349895134818851\n",
      "testing rmse = 0.8569196972527714\n",
      "0.04105081531903384\n",
      "0.16522172366197435\n",
      "training rmse = 0.9452209739036787\n",
      "testing rmse = 0.863410022532347\n",
      "0.0317024429067981\n",
      "0.15325292895959255\n",
      "training rmse = 0.9556824315634197\n",
      "testing rmse = 0.8702560836050846\n",
      "0.021802006244002022\n",
      "0.13805952502500782\n",
      "training rmse = 0.9663705868748617\n",
      "testing rmse = 0.877457551709733\n",
      "0.011012829914864686\n",
      "0.11648337715100562\n",
      "training rmse = 0.9772880135408477\n",
      "testing rmse = 0.8850191380347696\n",
      "-0.0019427395498513467\n",
      "0.07515952302305694\n",
      "training rmse = 0.9884462601306648\n",
      "testing rmse = 0.892954172084141\n",
      "-0.016440615833424786\n",
      "0.10654065239825601\n",
      "training rmse = 0.9998651942989477\n",
      "testing rmse = 0.9012513603630657\n",
      "-0.028304413026767054\n",
      "0.13574187227327258\n",
      "training rmse = 1.0112279734205167\n",
      "testing rmse = 0.9096367491589614\n",
      "-0.03937800711131831\n",
      "0.15503613040485967\n",
      "training rmse = 1.0224549414166755\n",
      "testing rmse = 0.9181090621326617\n",
      "-0.05016194747907619\n",
      "0.17000524999076566\n",
      "training rmse = 1.033528695521611\n",
      "testing rmse = 0.9266342264643833\n",
      "-0.06083631855566521\n",
      "0.18259883282777203\n",
      "training rmse = 1.0444203801801637\n",
      "testing rmse = 0.9351754436240469\n",
      "-0.07148755087408862\n",
      "0.1936584548574049\n",
      "training rmse = 1.0551006959670033\n",
      "testing rmse = 0.9436961543681928\n",
      "-0.08216303462467789\n",
      "0.20362376299262\n",
      "training rmse = 1.0655416903162793\n",
      "testing rmse = 0.95216086726461\n",
      "-0.09289004702457875\n",
      "0.21275466529633327\n",
      "training rmse = 1.0757173387757573\n",
      "testing rmse = 0.960535574829125\n",
      "-0.10368399695723077\n",
      "0.22121761045858432\n",
      "training rmse = 1.085603800561024\n",
      "testing rmse = 0.9687880220945316\n"
     ]
    },
    {
     "data": {
      "text/plain": [
       "0.9687880220945316"
      ]
     },
     "execution_count": 10,
     "metadata": {},
     "output_type": "execute_result"
    },
    {
     "data": {
      "image/png": "[encoded data removed]",
      "text/plain": [
       "<matplotlib.figure.Figure at 0x7f48dd01a320>"
      ]
     },
     "metadata": {
      "needs_background": "light"
     },
     "output_type": "display_data"
    }
   ],
   "source": [
    "sgd.new_global_test(users, items, ratings, timestamps, dynamic_strategy = \"exponential factor\")"
   ]
  }
 ],
 "metadata": {
  "kernelspec": {
   "display_name": "Python 3",
   "language": "python",
   "name": "python3"
  },
  "language_info": {
   "codemirror_mode": {
    "name": "ipython",
    "version": 3
   },
   "file_extension": ".py",
   "mimetype": "text/x-python",
   "name": "python",
   "nbconvert_exporter": "python",
   "pygments_lexer": "ipython3",
   "version": "3.6.9"
  }
 },
 "nbformat": 4,
 "nbformat_minor": 4
}
