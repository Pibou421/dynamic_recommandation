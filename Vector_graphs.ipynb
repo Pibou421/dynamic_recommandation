{
 "cells": [
  {
   "cell_type": "code",
   "execution_count": 3,
   "metadata": {},
   "outputs": [],
   "source": [
    "from zero.svd import MangakiSVD\n",
    "from zero.als import MangakiALS\n",
    "from zero.pca import MangakiPCA\n",
    "from zero.knn import MangakiKNN\n",
    "import numpy as np\n",
    "#from mangaki.utils.values import rating_values\n",
    "from zero.dataset import Dataset\n",
    "#from mangaki.utils.fit_algo import fit_algo, get_algo_backup\n",
    "\n",
    "# dataset = Dataset()\n",
    "# dataset.load_csv('/Users/jilljenn/code/mangaki/mangaki/data/ratings.csv', convert=lambda choice: rating_values[choice], title_filename='works.csv')\n",
    "# titles = dataset.titles"
   ]
  },
  {
   "cell_type": "code",
   "execution_count": 2,
   "metadata": {},
   "outputs": [
    {
     "ename": "NameError",
     "evalue": "name 'Rating' is not defined",
     "output_type": "error",
     "traceback": [
      "\u001b[0;31m---------------------------------------------------------------------------\u001b[0m",
      "\u001b[0;31mNameError\u001b[0m                                 Traceback (most recent call last)",
      "\u001b[0;32m<ipython-input-2-5e33ca5be3ef>\u001b[0m in \u001b[0;36m<module>\u001b[0;34m\u001b[0m\n\u001b[0;32m----> 1\u001b[0;31m \u001b[0mtriplets\u001b[0m \u001b[0;34m=\u001b[0m \u001b[0mRating\u001b[0m\u001b[0;34m.\u001b[0m\u001b[0mobjects\u001b[0m\u001b[0;34m.\u001b[0m\u001b[0mvalues_list\u001b[0m\u001b[0;34m(\u001b[0m\u001b[0;34m'user_id'\u001b[0m\u001b[0;34m,\u001b[0m \u001b[0;34m'work_id'\u001b[0m\u001b[0;34m,\u001b[0m \u001b[0;34m'choice'\u001b[0m\u001b[0;34m)\u001b[0m\u001b[0;34m\u001b[0m\u001b[0;34m\u001b[0m\u001b[0m\n\u001b[0m\u001b[1;32m      2\u001b[0m \u001b[0mdataset\u001b[0m \u001b[0;34m=\u001b[0m \u001b[0mDataset\u001b[0m\u001b[0;34m(\u001b[0m\u001b[0;34m)\u001b[0m\u001b[0;34m\u001b[0m\u001b[0;34m\u001b[0m\u001b[0m\n\u001b[1;32m      3\u001b[0m \u001b[0manonymized\u001b[0m \u001b[0;34m=\u001b[0m \u001b[0mdataset\u001b[0m\u001b[0;34m.\u001b[0m\u001b[0mmake_anonymous_data\u001b[0m\u001b[0;34m(\u001b[0m\u001b[0mtriplets\u001b[0m\u001b[0;34m)\u001b[0m\u001b[0;34m\u001b[0m\u001b[0;34m\u001b[0m\u001b[0m\n\u001b[1;32m      4\u001b[0m \u001b[0;34m\u001b[0m\u001b[0m\n\u001b[1;32m      5\u001b[0m \u001b[0malgo\u001b[0m \u001b[0;34m=\u001b[0m \u001b[0mMangakiALS\u001b[0m\u001b[0;34m(\u001b[0m\u001b[0mnb_iterations\u001b[0m\u001b[0;34m=\u001b[0m\u001b[0;36m10\u001b[0m\u001b[0;34m)\u001b[0m\u001b[0;34m\u001b[0m\u001b[0;34m\u001b[0m\u001b[0m\n",
      "\u001b[0;31mNameError\u001b[0m: name 'Rating' is not defined"
     ]
    }
   ],
   "source": [
    "triplets = Rating.objects.values_list('user_id', 'work_id', 'choice')\n",
    "dataset = Dataset()\n",
    "anonymized = dataset.make_anonymous_data(triplets)\n",
    "\n",
    "algo = MangakiALS(nb_iterations=10)\n",
    "algo.set_parameters(dataset.anonymized.nb_users, dataset.anonymized.nb_works)\n",
    "#algo.save('/tmp')\n",
    "algo.load('/tmp')\n",
    "#algo.fit(dataset.anonymized.X, dataset.anonymized.y)\n",
    "\n",
    "print(algo.predict(dataset.anonymized.X)[:6])\n",
    "print(dataset.anonymized.y[:6])"
   ]
  },
  {
   "cell_type": "code",
   "execution_count": 4,
   "metadata": {},
   "outputs": [
    {
     "ename": "NameError",
     "evalue": "name 'algo' is not defined",
     "output_type": "error",
     "traceback": [
      "\u001b[0;31m---------------------------------------------------------------------------\u001b[0m",
      "\u001b[0;31mNameError\u001b[0m                                 Traceback (most recent call last)",
      "\u001b[0;32m<ipython-input-4-827edd1848ec>\u001b[0m in \u001b[0;36m<module>\u001b[0;34m\u001b[0m\n\u001b[0;32m----> 1\u001b[0;31m \u001b[0malgo\u001b[0m\u001b[0;34m.\u001b[0m\u001b[0mU\u001b[0m\u001b[0;34m.\u001b[0m\u001b[0mshape\u001b[0m\u001b[0;34m\u001b[0m\u001b[0;34m\u001b[0m\u001b[0m\n\u001b[0m",
      "\u001b[0;31mNameError\u001b[0m: name 'algo' is not defined"
     ]
    }
   ],
   "source": [
    "algo.U.shape"
   ]
  },
  {
   "cell_type": "code",
   "execution_count": null,
   "metadata": {},
   "outputs": [],
   "source": [
    "algo.VT.shape"
   ]
  },
  {
   "cell_type": "markdown",
   "metadata": {},
   "source": [
    "## Find popular works and users"
   ]
  },
  {
   "cell_type": "code",
   "execution_count": null,
   "metadata": {},
   "outputs": [],
   "source": [
    "from collections import Counter\n",
    "\n",
    "NB = 50\n",
    "\n",
    "popular_users = Counter([user_id for user_id, _ in dataset.anonymized.X])\n",
    "popular_works = Counter([work_id for _, work_id in dataset.anonymized.X])\n",
    "\n",
    "popular_user_ids = [user_id for user_id, _ in popular_users.most_common(NB)]\n",
    "popular_work_ids = [work_id for work_id, _ in popular_works.most_common(NB)]"
   ]
  },
  {
   "cell_type": "code",
   "execution_count": null,
   "metadata": {},
   "outputs": [],
   "source": [
    "import pandas as pd\n",
    "\n",
    "df = pd.DataFrame(np.array(Work.objects.values_list('id', 'title')), columns=('work_id', 'title'))"
   ]
  },
  {
   "cell_type": "code",
   "execution_count": null,
   "metadata": {},
   "outputs": [],
   "source": [
    "df.head()\n",
    "df['work_id'] = df['work_id'].astype(np.int32)\n",
    "df['encoded_work_id'] = df['work_id'].map(dataset.encode_work)"
   ]
  },
  {
   "cell_type": "code",
   "execution_count": null,
   "metadata": {},
   "outputs": [],
   "source": [
    "df = df.dropna()"
   ]
  },
  {
   "cell_type": "code",
   "execution_count": null,
   "metadata": {},
   "outputs": [],
   "source": [
    "df['encoded_work_id'] = df['encoded_work_id'].astype(np.int32)"
   ]
  },
  {
   "cell_type": "code",
   "execution_count": null,
   "metadata": {},
   "outputs": [],
   "source": [
    "df.head()"
   ]
  },
  {
   "cell_type": "code",
   "execution_count": null,
   "metadata": {},
   "outputs": [],
   "source": [
    "dataset.titles = dict(np.array(df[['encoded_work_id', 'title']]))"
   ]
  },
  {
   "cell_type": "markdown",
   "metadata": {},
   "source": [
    "## Visualize anime embeddings using matplotlib"
   ]
  },
  {
   "cell_type": "code",
   "execution_count": null,
   "metadata": {
    "scrolled": true
   },
   "outputs": [],
   "source": [
    "%matplotlib notebook\n",
    "import matplotlib.pyplot as plt\n",
    "from sklearn.decomposition import TruncatedSVD\n",
    "plt.style.use('dark_background')\n",
    "\n",
    "svd = TruncatedSVD()\n",
    "\n",
    "class MangakiViz:\n",
    "    def __init__(self, title):\n",
    "        self.fig, self.ax = plt.subplots()\n",
    "        plt.xlim((-1, 1))\n",
    "        plt.ylim((-1, 1))\n",
    "        plt.title(title)\n",
    "        \n",
    "    def load_points(self, V, displayed_ids, marker='.', color='#FF6A00', titles=None):\n",
    "        V2 = svd.fit_transform(V)\n",
    "        self.ax.scatter(V2[displayed_ids, 0], V2[displayed_ids, 1], marker=marker, c=color, picker=True)\n",
    "        if titles is not None:\n",
    "            self.V2 = V2\n",
    "            self.displayed_ids = displayed_ids\n",
    "            self.title_of_point = dict([(tuple(self.V2[entity_id].tolist()), titles[entity_id] if entity_id != 3 else 'Princess Mononoke') for entity_id in self.displayed_ids])\n",
    "            self.fig.canvas.mpl_connect('pick_event', self.onpick)\n",
    "    \n",
    "    def display_title(self, x, y):\n",
    "        plt.annotate(self.title_of_point[(x, y)], xy=(x, y), xycoords='data',\n",
    "            xytext=(-30, -30), textcoords='offset points',\n",
    "            arrowprops=dict(arrowstyle=\"->\",\n",
    "                            connectionstyle=\"arc3,rad=.2\")\n",
    "            )\n",
    "    \n",
    "    def onpick(self, event):\n",
    "        ind = self.displayed_ids[event.ind[0]]\n",
    "        x, y = self.V2[ind]\n",
    "        self.display_title(x, y)\n",
    "    \n",
    "    def show_popular(self):\n",
    "        for famous_pos in [0, 3, 5]:\n",
    "            x, y = self.V2[self.displayed_ids[famous_pos]]\n",
    "            self.display_title(x, y)\n",
    "    \n",
    "    def save(self, filename):\n",
    "        print(filename)\n",
    "        plt.show()\n",
    "        # self.fig.savefig(filename, format='pdf')\n",
    "        # plt.close()\n",
    "\n",
    "U = algo.U\n",
    "V = algo.VT.T\n",
    "titles = dataset.titles\n",
    "viz = MangakiViz('Visualizing anime embeddings')\n",
    "viz.load_points(U, popular_user_ids)\n",
    "viz.load_points(V, popular_work_ids, '+', 'tab:cyan', titles)\n",
    "viz.show_popular()\n",
    "viz.save('test.pdf')"
   ]
  },
  {
   "cell_type": "markdown",
   "metadata": {},
   "source": [
    "## This below was just to generate the slides for Hacker News Kansai"
   ]
  },
  {
   "cell_type": "code",
   "execution_count": null,
   "metadata": {},
   "outputs": [],
   "source": [
    "V_ids = np.arange(20).repeat(2)\n",
    "U_ids = V_ids.copy()[1:]"
   ]
  },
  {
   "cell_type": "code",
   "execution_count": null,
   "metadata": {},
   "outputs": [],
   "source": [
    "with open('/tmp/log.txt') as f:\n",
    "    plot_titles = ['Start with random points'] + f.read().splitlines()\n",
    "\n",
    "for t, (uid_t, vid_t) in enumerate(zip(U_ids, V_ids)):\n",
    "    print(t, uid_t, vid_t, plot_titles[t])\n",
    "    viz = MangakiViz(plot_titles[t])\n",
    "    U = np.load('U{:d}.npy'.format(uid_t))\n",
    "    V = np.load('V{:d}.npy'.format(vid_t))\n",
    "    viz.load_points(U, popular_user_ids)\n",
    "    viz.load_points(V, popular_work_ids, '+', 'tab:cyan', titles)\n",
    "    viz.show_popular()\n",
    "    viz.save('/Users/jilljenn/Desktop/hnkansai/figures/embed{:d}.pdf'.format(t))"
   ]
  }
 ],
 "metadata": {
  "kernelspec": {
   "display_name": "Python 3",
   "language": "python",
   "name": "python3"
  },
  "language_info": {
   "codemirror_mode": {
    "name": "ipython",
    "version": 3
   },
   "file_extension": ".py",
   "mimetype": "text/x-python",
   "name": "python",
   "nbconvert_exporter": "python",
   "pygments_lexer": "ipython3",
   "version": "3.6.9"
  }
 },
 "nbformat": 4,
 "nbformat_minor": 1
}
